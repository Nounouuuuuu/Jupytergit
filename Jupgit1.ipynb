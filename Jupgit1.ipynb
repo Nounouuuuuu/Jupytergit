{
 "cells": [
  {
   "cell_type": "code",
   "execution_count": 2,
   "id": "49f97f9f",
   "metadata": {},
   "outputs": [
    {
     "name": "stdout",
     "output_type": "stream",
     "text": [
      "hello\n",
      "premier commit\n"
     ]
    }
   ],
   "source": [
    "print('hello')\n",
    "\n",
    "print('premier commit')\n",
    "\n",
    "x = 10\n",
    "y = 20"
   ]
  },
  {
   "cell_type": "code",
   "execution_count": 4,
   "id": "2dda73d6",
   "metadata": {},
   "outputs": [],
   "source": [
    "z=x+y\n",
    "\n",
    "print(\"z= \",z)"
   ]
  }
 ],
 "metadata": {
  "kernelspec": {
   "display_name": "Python 3 (ipykernel)",
   "language": "python",
   "name": "python3"
  },
  "language_info": {
   "codemirror_mode": {
    "name": "ipython",
    "version": 3
   },
   "file_extension": ".py",
   "mimetype": "text/x-python",
   "name": "python",
   "nbconvert_exporter": "python",
   "pygments_lexer": "ipython3",
   "version": "3.9.7"
  }
 },
 "nbformat": 4,
 "nbformat_minor": 5
}
