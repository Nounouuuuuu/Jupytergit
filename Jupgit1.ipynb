{
 "cells": [
  {
   "cell_type": "code",
   "execution_count": 14,
   "id": "baeda1ef",
   "metadata": {},
   "outputs": [],
   "source": [
    "x = 10\n",
    "y = 20\n",
    "\n",
    "z=x+y"
   ]
  },
  {
   "cell_type": "code",
   "execution_count": 15,
   "id": "34394646",
   "metadata": {},
   "outputs": [
    {
     "name": "stdout",
     "output_type": "stream",
     "text": [
      "hello\n",
      "premier commit\n"
     ]
    }
   ],
   "source": [
    "print('hello')\n",
    "\n",
    "print('premier commit')"
   ]
  },
  {
   "cell_type": "code",
   "execution_count": 16,
   "id": "fe731ba1",
   "metadata": {},
   "outputs": [
    {
     "name": "stdout",
     "output_type": "stream",
     "text": [
      "z=  30\n"
     ]
    }
   ],
   "source": [
    "print(\"z= \",z)"
   ]
  }
 ],
 "metadata": {
  "kernelspec": {
   "display_name": "Python 3 (ipykernel)",
   "language": "python",
   "name": "python3"
  },
  "language_info": {
   "codemirror_mode": {
    "name": "ipython",
    "version": 3
   },
   "file_extension": ".py",
   "mimetype": "text/x-python",
   "name": "python",
   "nbconvert_exporter": "python",
   "pygments_lexer": "ipython3",
   "version": "3.9.7"
  }
 },
 "nbformat": 4,
 "nbformat_minor": 5
}
